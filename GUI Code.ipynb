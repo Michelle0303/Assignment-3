{
 "cells": [
  {
   "cell_type": "code",
   "execution_count": 1,
   "metadata": {},
   "outputs": [],
   "source": [
    "import ipywidgets as widgets\n",
    "from IPython.display import display \n",
    "import pandas as pd\n",
    "import numpy as np\n",
    "import pyodbc"
   ]
  },
  {
   "cell_type": "code",
   "execution_count": 6,
   "metadata": {},
   "outputs": [
    {
     "name": "stdout",
     "output_type": "stream",
     "text": [
      "          STATE   EMPLOYED UNEMPLOYED LABOUR FORCE PER STATE\n",
      "0          ABIA  1,034,681    570,609              1,605,290\n",
      "1       ADAMAWA  1,265,890    523,719              1,789,609\n",
      "2     AKWA-IBOM  1,390,096  1,144,399              2,534,495\n",
      "3       ANAMBRA  1,960,110    296,325              2,256,435\n",
      "4        BAUCHI  1,980,254    555,407              2,535,661\n",
      "5       BAYELSA    745,609    287,671              1,033,280\n",
      "6         BENUE  2,023,111    617,938              2,641,049\n",
      "7         BORNO    905,571    224,583              1,130,154\n",
      "8   CROSS RIVER  1,341,191    618,484              1,959,675\n",
      "9         DELTA  1,488,604  1,005,848              2,494,452\n",
      "10       EBONYI  1,142,164    194,868              1,337,032\n",
      "11          EDO  1,609,031    376,734              1,985,765\n",
      "12        EKITI  1,030,462    188,386              1,218,848\n",
      "13        ENUGU  1,565,271    585,568              2,150,839\n",
      "14        GOMBE    887,821    442,478              1,330,299\n",
      "15          IMO  1,274,875  1,209,882              2,484,757\n",
      "16       JIGAWA  1,536,750    442,495              1,979,245\n",
      "17       KADUNA  2,023,563  1,339,952              3,363,515\n",
      "18         KANO  3,088,157  1,424,686              4,512,843\n",
      "19      KATSINA  2,106,028    650,682              2,756,710\n",
      "20        KEBBI  1,281,678    245,697              1,527,375\n",
      "21         KOGI  1,201,893    677,097              1,878,990\n",
      "22        QUARA  1,162,574    186,163              1,348,737\n",
      "23        LAGOS  5,502,380  1,329,490              6,831,870\n",
      "24     NASAWARA    870,027    165,232              1,035,259\n",
      "25        NIGER  1,385,822    707,559              2,093,381\n",
      "26         OGUN  1,866,467    362,720              2,229,187\n",
      "27         ONDO  1,645,270    440,389              2,085,659\n",
      "28         OSUN  1,641,941    295,590              1,937,531\n",
      "29          OYO  2,653,491    521,216              3,174,707\n",
      "30      PLATEAU  1,187,019    645,166              1,832,185\n",
      "31       RIVERS  2,207,671  1,714,189              3,921,860\n",
      "32       SOKOTO  1,341,039    216,339              1,557,378\n",
      "33       TARABA    818,793    532,520              1,351,313\n",
      "34         YOBE    817,372    298,563              1,115,935\n",
      "35      ZAMFARA  1,285,512    209,978              1,495,490\n",
      "36          FCT  1,259,093    515,996              1,775,089\n"
     ]
    }
   ],
   "source": [
    "fil = pd.read_csv(r'C:\\Users\\user\\Desktop\\LFPS.csv')\n",
    "print(fil)"
   ]
  },
  {
   "cell_type": "code",
   "execution_count": 3,
   "metadata": {},
   "outputs": [
    {
     "data": {
      "application/vnd.jupyter.widget-view+json": {
       "model_id": "b1efb3b9d70342f9adb2bafc28da97d5",
       "version_major": 2,
       "version_minor": 0
      },
      "text/plain": [
       "Dropdown(options=('ALL', 'ABIA', 'ADAMAWA', 'AKWA-IBOM', 'ANAMBRA', 'BAUCHI', 'BAYELSA', 'BENUE', 'BORNO', 'CR…"
      ]
     },
     "metadata": {},
     "output_type": "display_data"
    }
   ],
   "source": [
    "ALL = 'ALL'\n",
    "def unique_ALL(array):\n",
    "    unique = array.tolist()\n",
    "    unique.sort()\n",
    "    unique.insert(0,ALL)\n",
    "    return unique\n",
    "dropdown = widgets.Dropdown(options=unique_ALL(fil.STATE))\n",
    "output_year  = widgets.Output()\n",
    "def dropdown_event(change):\n",
    "    output_year.clear_output()\n",
    "    with output_year:\n",
    "        if(change.new == ALL):\n",
    "            display(fil)\n",
    "        else:\n",
    "            display(fil[fil.STATE == change.new])\n",
    "dropdown.observe(dropdown_event,names='value')\n",
    "display(dropdown)"
   ]
  },
  {
   "cell_type": "code",
   "execution_count": 4,
   "metadata": {},
   "outputs": [
    {
     "data": {
      "application/vnd.jupyter.widget-view+json": {
       "model_id": "d1fdbdc8ff6a411385359b8bb1f101b1",
       "version_major": 2,
       "version_minor": 0
      },
      "text/plain": [
       "Output(outputs=({'output_type': 'display_data', 'data': {'text/plain': '     STATE EMPLOYED UNEMPLOYED LABOUR …"
      ]
     },
     "metadata": {},
     "output_type": "display_data"
    }
   ],
   "source": [
    "display(output_year)"
   ]
  }
 ],
 "metadata": {
  "kernelspec": {
   "display_name": "Python 3",
   "language": "python",
   "name": "python3"
  },
  "language_info": {
   "codemirror_mode": {
    "name": "ipython",
    "version": 3
   },
   "file_extension": ".py",
   "mimetype": "text/x-python",
   "name": "python",
   "nbconvert_exporter": "python",
   "pygments_lexer": "ipython3",
   "version": "3.8.5"
  }
 },
 "nbformat": 4,
 "nbformat_minor": 4
}
