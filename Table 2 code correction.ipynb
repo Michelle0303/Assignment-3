{
 "cells": [
  {
   "cell_type": "code",
   "execution_count": 1,
   "metadata": {},
   "outputs": [],
   "source": [
    "import pyodbc\n",
    "conn = pyodbc.connect(\n",
    "    \"Driver={SQL Server Native Client 11.0};\"\n",
    "    \"Server={DESKTOP-SH9VOGC};\"\n",
    "    \"Database={MICHELLE};\"\n",
    "    \"Trusted_Connection=yes;\"\n",
    ")"
   ]
  },
  {
   "cell_type": "code",
   "execution_count": 10,
   "metadata": {},
   "outputs": [
    {
     "name": "stdout",
     "output_type": "stream",
     "text": [
      "Read\n",
      "('ABIA', 1034681.0, 570609.0, 1605290.0)\n",
      "('ADAMAWA', 1265890.0, 523719.0, 1789609.0)\n",
      "('AKWA-IBOM', 1390096.0, 1144399.0, 2534495.0)\n",
      "('ANAMBRA', 1960110.0, 296325.0, 2256435.0)\n",
      "('BAUCHI', 1980254.0, 555407.0, 2535661.0)\n",
      "('BAYELSA', 745609.0, 287671.0, 1033280.0)\n",
      "('BENUE', 2023111.0, 617938.0, 2641049.0)\n",
      "('BORNO', 905571.0, 224583.0, 1130154.0)\n",
      "('CROSS RIVER', 1341191.0, 618484.0, 1959675.0)\n",
      "('DELTA', 1488604.0, 1005848.0, 2494452.0)\n",
      "('EBONYI', 1142164.0, 194868.0, 1337032.0)\n",
      "('EDO', 1609031.0, 376734.0, 1985765.0)\n",
      "('EKITI', 1030462.0, 188386.0, 1218848.0)\n",
      "('ENUGU', 1565271.0, 585568.0, 2150839.0)\n",
      "('GOMBE', 887821.0, 442478.0, 1330299.0)\n",
      "('IMO', 1274875.0, 1209882.0, 2484757.0)\n",
      "('JIGAWA', 1536750.0, 442495.0, 1979245.0)\n",
      "('KADUNA', 2023563.0, 1339952.0, 3363515.0)\n",
      "('KANO', 3088157.0, 1424686.0, 4512843.0)\n",
      "('KATSINA', 2106028.0, 650682.0, 2756710.0)\n",
      "('KEBBI', 1281678.0, 245697.0, 1527375.0)\n",
      "('KOGI', 1201893.0, 677097.0, 1878990.0)\n",
      "('QUARA', 1162574.0, 186163.0, 1348737.0)\n",
      "('LAGOS', 5502380.0, 1329490.0, 6831870.0)\n",
      "('NASAWARA', 870027.0, 165232.0, 1035259.0)\n",
      "('NIGER', 1385822.0, 707559.0, 2093381.0)\n",
      "('OGUN', 1866467.0, 362720.0, 2229187.0)\n",
      "('ONDO', 1645270.0, 440389.0, 2085659.0)\n",
      "('OSUN', 1641941.0, 295590.0, 1937531.0)\n",
      "('OYO', 2653491.0, 521216.0, 3174707.0)\n",
      "('PLATEAU', 1187019.0, 645166.0, 1832185.0)\n",
      "('RIVERS', 2207671.0, 1714189.0, 3921860.0)\n",
      "('SOKOTO', 1341039.0, 216339.0, 1557378.0)\n",
      "('TARABA', 818793.0, 532520.0, 1351313.0)\n",
      "('YOBE', 817372.0, 298563.0, 1115935.0)\n",
      "('ZAMFARA', 1285512.0, 209978.0, 1495490.0)\n",
      "('FCT, ABUJA', 1259093.0, 515996.0, 1775089.0)\n",
      "\n"
     ]
    }
   ],
   "source": [
    "def read(conn):\n",
    "    print(\"Read\")\n",
    "    cursor = conn.cursor()\n",
    "    cursor.execute(\"SELECT * FROM dbo.table2\")\n",
    "    for row in cursor:\n",
    "         print(row)\n",
    "    print()\n",
    "read(conn)"
   ]
  },
  {
   "cell_type": "code",
   "execution_count": 4,
   "metadata": {},
   "outputs": [
    {
     "name": "stdout",
     "output_type": "stream",
     "text": [
      "Select\n",
      "('ABIA', 1034681.0)\n",
      "\n"
     ]
    }
   ],
   "source": [
    "def select(conn):\n",
    "    print(\"Select\")\n",
    "    cursor = conn.cursor()\n",
    "    cursor.execute(\"SELECT F1,F2 FROM dbo.table2 WHERE F1='ABIA'\")\n",
    "    for row in cursor:\n",
    "         print(row)\n",
    "    print()\n",
    "select(conn)"
   ]
  },
  {
   "cell_type": "code",
   "execution_count": 7,
   "metadata": {},
   "outputs": [
    {
     "name": "stdout",
     "output_type": "stream",
     "text": [
      "Read\n"
     ]
    },
    {
     "ename": "ProgrammingError",
     "evalue": "No results.  Previous SQL was not a query.",
     "output_type": "error",
     "traceback": [
      "\u001b[1;31m---------------------------------------------------------------------------\u001b[0m",
      "\u001b[1;31mProgrammingError\u001b[0m                          Traceback (most recent call last)",
      "\u001b[1;32m<ipython-input-7-0dd31fc027ff>\u001b[0m in \u001b[0;36m<module>\u001b[1;34m\u001b[0m\n\u001b[0;32m      6\u001b[0m          \u001b[0mprint\u001b[0m\u001b[1;33m(\u001b[0m\u001b[0mrow\u001b[0m\u001b[1;33m)\u001b[0m\u001b[1;33m\u001b[0m\u001b[1;33m\u001b[0m\u001b[0m\n\u001b[0;32m      7\u001b[0m     \u001b[0mprint\u001b[0m\u001b[1;33m(\u001b[0m\u001b[1;33m)\u001b[0m\u001b[1;33m\u001b[0m\u001b[1;33m\u001b[0m\u001b[0m\n\u001b[1;32m----> 8\u001b[1;33m \u001b[0minsert\u001b[0m\u001b[1;33m(\u001b[0m\u001b[0mconn\u001b[0m\u001b[1;33m)\u001b[0m\u001b[1;33m\u001b[0m\u001b[1;33m\u001b[0m\u001b[0m\n\u001b[0m",
      "\u001b[1;32m<ipython-input-7-0dd31fc027ff>\u001b[0m in \u001b[0;36minsert\u001b[1;34m(conn)\u001b[0m\n\u001b[0;32m      3\u001b[0m     \u001b[0mcursor\u001b[0m \u001b[1;33m=\u001b[0m \u001b[0mconn\u001b[0m\u001b[1;33m.\u001b[0m\u001b[0mcursor\u001b[0m\u001b[1;33m(\u001b[0m\u001b[1;33m)\u001b[0m\u001b[1;33m\u001b[0m\u001b[1;33m\u001b[0m\u001b[0m\n\u001b[0;32m      4\u001b[0m     \u001b[0mcursor\u001b[0m\u001b[1;33m.\u001b[0m\u001b[0mexecute\u001b[0m\u001b[1;33m(\u001b[0m\u001b[1;34m\"INSERT INTO dbo.table2 (F1, F2, F3, F4) VALUES ('cu','123','45','67')\"\u001b[0m\u001b[1;33m)\u001b[0m\u001b[1;33m\u001b[0m\u001b[1;33m\u001b[0m\u001b[0m\n\u001b[1;32m----> 5\u001b[1;33m     \u001b[1;32mfor\u001b[0m \u001b[0mrow\u001b[0m \u001b[1;32min\u001b[0m \u001b[0mcursor\u001b[0m\u001b[1;33m:\u001b[0m\u001b[1;33m\u001b[0m\u001b[1;33m\u001b[0m\u001b[0m\n\u001b[0m\u001b[0;32m      6\u001b[0m          \u001b[0mprint\u001b[0m\u001b[1;33m(\u001b[0m\u001b[0mrow\u001b[0m\u001b[1;33m)\u001b[0m\u001b[1;33m\u001b[0m\u001b[1;33m\u001b[0m\u001b[0m\n\u001b[0;32m      7\u001b[0m     \u001b[0mprint\u001b[0m\u001b[1;33m(\u001b[0m\u001b[1;33m)\u001b[0m\u001b[1;33m\u001b[0m\u001b[1;33m\u001b[0m\u001b[0m\n",
      "\u001b[1;31mProgrammingError\u001b[0m: No results.  Previous SQL was not a query."
     ]
    }
   ],
   "source": [
    "def insert(conn):\n",
    "    print(\"Read\")\n",
    "    cursor = conn.cursor()\n",
    "    cursor.execute(\"INSERT INTO dbo.table2 (F1, F2, F3, F4) VALUES ('cu','123','45','67')\")\n",
    "    for row in cursor:\n",
    "         print(row)\n",
    "    print()\n",
    "insert(conn)"
   ]
  },
  {
   "cell_type": "code",
   "execution_count": 9,
   "metadata": {},
   "outputs": [
    {
     "name": "stdout",
     "output_type": "stream",
     "text": [
      "Read\n"
     ]
    },
    {
     "ename": "ProgrammingError",
     "evalue": "No results.  Previous SQL was not a query.",
     "output_type": "error",
     "traceback": [
      "\u001b[1;31m---------------------------------------------------------------------------\u001b[0m",
      "\u001b[1;31mProgrammingError\u001b[0m                          Traceback (most recent call last)",
      "\u001b[1;32m<ipython-input-9-ea1d042e1936>\u001b[0m in \u001b[0;36m<module>\u001b[1;34m\u001b[0m\n\u001b[0;32m      6\u001b[0m          \u001b[0mprint\u001b[0m\u001b[1;33m(\u001b[0m\u001b[0mrow\u001b[0m\u001b[1;33m)\u001b[0m\u001b[1;33m\u001b[0m\u001b[1;33m\u001b[0m\u001b[0m\n\u001b[0;32m      7\u001b[0m     \u001b[0mprint\u001b[0m\u001b[1;33m(\u001b[0m\u001b[1;33m)\u001b[0m\u001b[1;33m\u001b[0m\u001b[1;33m\u001b[0m\u001b[0m\n\u001b[1;32m----> 8\u001b[1;33m \u001b[0mdelete\u001b[0m\u001b[1;33m(\u001b[0m\u001b[0mconn\u001b[0m\u001b[1;33m)\u001b[0m\u001b[1;33m\u001b[0m\u001b[1;33m\u001b[0m\u001b[0m\n\u001b[0m",
      "\u001b[1;32m<ipython-input-9-ea1d042e1936>\u001b[0m in \u001b[0;36mdelete\u001b[1;34m(conn)\u001b[0m\n\u001b[0;32m      3\u001b[0m     \u001b[0mcursor\u001b[0m \u001b[1;33m=\u001b[0m \u001b[0mconn\u001b[0m\u001b[1;33m.\u001b[0m\u001b[0mcursor\u001b[0m\u001b[1;33m(\u001b[0m\u001b[1;33m)\u001b[0m\u001b[1;33m\u001b[0m\u001b[1;33m\u001b[0m\u001b[0m\n\u001b[0;32m      4\u001b[0m     \u001b[0mcursor\u001b[0m\u001b[1;33m.\u001b[0m\u001b[0mexecute\u001b[0m\u001b[1;33m(\u001b[0m\u001b[1;34m\"DELETE FROM dbo.table2 WHERE F1='cu'\"\u001b[0m\u001b[1;33m)\u001b[0m\u001b[1;33m\u001b[0m\u001b[1;33m\u001b[0m\u001b[0m\n\u001b[1;32m----> 5\u001b[1;33m     \u001b[1;32mfor\u001b[0m \u001b[0mrow\u001b[0m \u001b[1;32min\u001b[0m \u001b[0mcursor\u001b[0m\u001b[1;33m:\u001b[0m\u001b[1;33m\u001b[0m\u001b[1;33m\u001b[0m\u001b[0m\n\u001b[0m\u001b[0;32m      6\u001b[0m          \u001b[0mprint\u001b[0m\u001b[1;33m(\u001b[0m\u001b[0mrow\u001b[0m\u001b[1;33m)\u001b[0m\u001b[1;33m\u001b[0m\u001b[1;33m\u001b[0m\u001b[0m\n\u001b[0;32m      7\u001b[0m     \u001b[0mprint\u001b[0m\u001b[1;33m(\u001b[0m\u001b[1;33m)\u001b[0m\u001b[1;33m\u001b[0m\u001b[1;33m\u001b[0m\u001b[0m\n",
      "\u001b[1;31mProgrammingError\u001b[0m: No results.  Previous SQL was not a query."
     ]
    }
   ],
   "source": [
    "def delete(conn):\n",
    "    print(\"Read\")\n",
    "    cursor = conn.cursor()\n",
    "    cursor.execute(\"DELETE FROM dbo.table2 WHERE F1='cu'\")\n",
    "    for row in cursor:\n",
    "         print(row)\n",
    "    print()\n",
    "delete(conn)"
   ]
  },
  {
   "cell_type": "code",
   "execution_count": null,
   "metadata": {},
   "outputs": [],
   "source": []
  }
 ],
 "metadata": {
  "kernelspec": {
   "display_name": "Python 3",
   "language": "python",
   "name": "python3"
  },
  "language_info": {
   "codemirror_mode": {
    "name": "ipython",
    "version": 3
   },
   "file_extension": ".py",
   "mimetype": "text/x-python",
   "name": "python",
   "nbconvert_exporter": "python",
   "pygments_lexer": "ipython3",
   "version": "3.8.5"
  }
 },
 "nbformat": 4,
 "nbformat_minor": 4
}
