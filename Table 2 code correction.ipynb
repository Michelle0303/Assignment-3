{
 "cells": [
  {
   "cell_type": "code",
   "execution_count": 2,
   "metadata": {},
   "outputs": [],
   "source": [
    "import pyodbc\n",
    "conn = pyodbc.connect(\n",
    "    \"Driver={SQL Server Native Client 11.0};\"\n",
    "    \"Server={DESKTOP-SH9VOGC};\"\n",
    "    \"Database={MICHELLE};\"\n",
    "    \"Trusted_Connection=yes;\"\n",
    ")"
   ]
  },
  {
   "cell_type": "code",
   "execution_count": 12,
   "metadata": {},
   "outputs": [
    {
     "name": "stdout",
     "output_type": "stream",
     "text": [
      "Read\n",
      "('ABIA', 1034681, 570609, 1605290)\n",
      "('ADAMAWA', 1265890, 523719, 1789609)\n",
      "('AKWA-IBOM', 1390096, 1144399, 2534495)\n",
      "('ANAMBRA', 1960110, 296325, 2256435)\n",
      "('BAUCHI', 1980254, 555407, 2535661)\n",
      "('BAYELSA', 745609, 287671, 1033280)\n",
      "('BENUE', 2023111, 617938, 2641049)\n",
      "('BORNO', 905571, 224583, 1130154)\n",
      "('CROSS RIVER', 1341191, 618484, 1959675)\n",
      "('DELTA', 1488604, 1005848, 2494452)\n",
      "('EBONYI', 1142164, 194868, 1337032)\n",
      "('EDO', 1609031, 376734, 1985765)\n",
      "('EKITI', 1030462, 188386, 1218848)\n",
      "('ENUGU', 1565271, 585568, 2150839)\n",
      "('GOMBE', 887821, 442478, 1330299)\n",
      "('IMO', 1274875, 1209882, 2484757)\n",
      "('JIGAWA', 1536750, 442495, 1979245)\n",
      "('KADUNA', 2023563, 1339952, 3363515)\n",
      "('KANO', 3088157, 1424686, 4512843)\n",
      "('KATSINA', 2106028, 650682, 2756710)\n",
      "('KEBBI', 1281678, 245697, 1527375)\n",
      "('KOGI', 1201893, 677097, 1878990)\n",
      "('QUARA', 1162574, 186163, 1348737)\n",
      "('LAGOS', 5502380, 1329490, 6831870)\n",
      "('NASAWARA', 870027, 165232, 1035259)\n",
      "('NIGER', 1385822, 707559, 2093381)\n",
      "('OGUN', 1866467, 362720, 2229187)\n",
      "('ONDO', 1645270, 440389, 2085659)\n",
      "('OSUN', 1641941, 295590, 1937531)\n",
      "('OYO', 2653491, 521216, 3174707)\n",
      "('PLATEAU', 1187019, 645166, 1832185)\n",
      "('RIVERS', 2207671, 1714189, 3921860)\n",
      "('SOKOTO', 1341039, 216339, 1557378)\n",
      "('TARABA', 818793, 532520, 1351313)\n",
      "('YOBE', 817372, 298563, 1115935)\n",
      "('ZAMFARA', 1285512, 209978, 1495490)\n",
      "('FCT, ABUJA', 1259093, 515996, 1775089)\n",
      "('CLUB', 120853, 455733, 653597)\n",
      "\n"
     ]
    }
   ],
   "source": [
    "def read(conn):\n",
    "    print(\"Read\")\n",
    "    cursor = conn.cursor()\n",
    "    cursor.execute(\"SELECT * FROM dbo.table1\")\n",
    "    for row in cursor:\n",
    "         print(row)\n",
    "    print()\n",
    "read(conn)"
   ]
  },
  {
   "cell_type": "code",
   "execution_count": 4,
   "metadata": {},
   "outputs": [
    {
     "name": "stdout",
     "output_type": "stream",
     "text": [
      "Select\n",
      "('ANAMBRA', 1960110)\n",
      "\n"
     ]
    }
   ],
   "source": [
    "def select(conn):\n",
    "    print(\"Select\")\n",
    "    cursor = conn.cursor()\n",
    "    cursor.execute(\"SELECT STATE,EMPLOYED FROM dbo.table1 WHERE STATE='ANAMBRA'\")\n",
    "    for row in cursor:\n",
    "         print(row)\n",
    "    print()\n",
    "select(conn)"
   ]
  },
  {
   "cell_type": "code",
   "execution_count": 11,
   "metadata": {},
   "outputs": [
    {
     "name": "stdout",
     "output_type": "stream",
     "text": [
      "Read\n"
     ]
    },
    {
     "ename": "ProgrammingError",
     "evalue": "No results.  Previous SQL was not a query.",
     "output_type": "error",
     "traceback": [
      "\u001b[1;31m---------------------------------------------------------------------------\u001b[0m",
      "\u001b[1;31mProgrammingError\u001b[0m                          Traceback (most recent call last)",
      "\u001b[1;32m<ipython-input-11-284cf1a9d6c3>\u001b[0m in \u001b[0;36m<module>\u001b[1;34m\u001b[0m\n\u001b[0;32m      6\u001b[0m          \u001b[0mprint\u001b[0m\u001b[1;33m(\u001b[0m\u001b[0mrow\u001b[0m\u001b[1;33m)\u001b[0m\u001b[1;33m\u001b[0m\u001b[1;33m\u001b[0m\u001b[0m\n\u001b[0;32m      7\u001b[0m     \u001b[0mprint\u001b[0m\u001b[1;33m(\u001b[0m\u001b[1;33m)\u001b[0m\u001b[1;33m\u001b[0m\u001b[1;33m\u001b[0m\u001b[0m\n\u001b[1;32m----> 8\u001b[1;33m \u001b[0minsert\u001b[0m\u001b[1;33m(\u001b[0m\u001b[0mconn\u001b[0m\u001b[1;33m)\u001b[0m\u001b[1;33m\u001b[0m\u001b[1;33m\u001b[0m\u001b[0m\n\u001b[0m\u001b[0;32m      9\u001b[0m \u001b[1;33m\u001b[0m\u001b[0m\n",
      "\u001b[1;32m<ipython-input-11-284cf1a9d6c3>\u001b[0m in \u001b[0;36minsert\u001b[1;34m(conn)\u001b[0m\n\u001b[0;32m      3\u001b[0m     \u001b[0mcursor\u001b[0m \u001b[1;33m=\u001b[0m \u001b[0mconn\u001b[0m\u001b[1;33m.\u001b[0m\u001b[0mcursor\u001b[0m\u001b[1;33m(\u001b[0m\u001b[1;33m)\u001b[0m\u001b[1;33m\u001b[0m\u001b[1;33m\u001b[0m\u001b[0m\n\u001b[0;32m      4\u001b[0m     \u001b[0mcursor\u001b[0m\u001b[1;33m.\u001b[0m\u001b[0mexecute\u001b[0m\u001b[1;33m(\u001b[0m\u001b[1;34m\"INSERT INTO dbo.table1 (STATE, EMPLOYED, UNEMPLOYED, LFPS) VALUES ('CLUB','120853','455733','653597')\"\u001b[0m\u001b[1;33m)\u001b[0m\u001b[1;33m\u001b[0m\u001b[1;33m\u001b[0m\u001b[0m\n\u001b[1;32m----> 5\u001b[1;33m     \u001b[1;32mfor\u001b[0m \u001b[0mrow\u001b[0m \u001b[1;32min\u001b[0m \u001b[0mcursor\u001b[0m\u001b[1;33m:\u001b[0m\u001b[1;33m\u001b[0m\u001b[1;33m\u001b[0m\u001b[0m\n\u001b[0m\u001b[0;32m      6\u001b[0m          \u001b[0mprint\u001b[0m\u001b[1;33m(\u001b[0m\u001b[0mrow\u001b[0m\u001b[1;33m)\u001b[0m\u001b[1;33m\u001b[0m\u001b[1;33m\u001b[0m\u001b[0m\n\u001b[0;32m      7\u001b[0m     \u001b[0mprint\u001b[0m\u001b[1;33m(\u001b[0m\u001b[1;33m)\u001b[0m\u001b[1;33m\u001b[0m\u001b[1;33m\u001b[0m\u001b[0m\n",
      "\u001b[1;31mProgrammingError\u001b[0m: No results.  Previous SQL was not a query."
     ]
    }
   ],
   "source": [
    "def insert(conn):\n",
    "    print(\"Read\")\n",
    "    cursor = conn.cursor()\n",
    "    cursor.execute(\"INSERT INTO dbo.table1 (STATE, EMPLOYED, UNEMPLOYED, LFPS) VALUES ('CLUB','120853','455733','653597')\")\n",
    "    for row in cursor:\n",
    "         print(row)\n",
    "    print()\n",
    "insert(conn)\n",
    "\n"
   ]
  },
  {
   "cell_type": "code",
   "execution_count": 9,
   "metadata": {},
   "outputs": [
    {
     "name": "stdout",
     "output_type": "stream",
     "text": [
      "Read\n"
     ]
    },
    {
     "ename": "ProgrammingError",
     "evalue": "No results.  Previous SQL was not a query.",
     "output_type": "error",
     "traceback": [
      "\u001b[1;31m---------------------------------------------------------------------------\u001b[0m",
      "\u001b[1;31mProgrammingError\u001b[0m                          Traceback (most recent call last)",
      "\u001b[1;32m<ipython-input-9-a2ed1be60574>\u001b[0m in \u001b[0;36m<module>\u001b[1;34m\u001b[0m\n\u001b[0;32m      6\u001b[0m          \u001b[0mprint\u001b[0m\u001b[1;33m(\u001b[0m\u001b[0mrow\u001b[0m\u001b[1;33m)\u001b[0m\u001b[1;33m\u001b[0m\u001b[1;33m\u001b[0m\u001b[0m\n\u001b[0;32m      7\u001b[0m     \u001b[0mprint\u001b[0m\u001b[1;33m(\u001b[0m\u001b[1;33m)\u001b[0m\u001b[1;33m\u001b[0m\u001b[1;33m\u001b[0m\u001b[0m\n\u001b[1;32m----> 8\u001b[1;33m \u001b[0mdelete\u001b[0m\u001b[1;33m(\u001b[0m\u001b[0mconn\u001b[0m\u001b[1;33m)\u001b[0m\u001b[1;33m\u001b[0m\u001b[1;33m\u001b[0m\u001b[0m\n\u001b[0m",
      "\u001b[1;32m<ipython-input-9-a2ed1be60574>\u001b[0m in \u001b[0;36mdelete\u001b[1;34m(conn)\u001b[0m\n\u001b[0;32m      3\u001b[0m     \u001b[0mcursor\u001b[0m \u001b[1;33m=\u001b[0m \u001b[0mconn\u001b[0m\u001b[1;33m.\u001b[0m\u001b[0mcursor\u001b[0m\u001b[1;33m(\u001b[0m\u001b[1;33m)\u001b[0m\u001b[1;33m\u001b[0m\u001b[1;33m\u001b[0m\u001b[0m\n\u001b[0;32m      4\u001b[0m     \u001b[0mcursor\u001b[0m\u001b[1;33m.\u001b[0m\u001b[0mexecute\u001b[0m\u001b[1;33m(\u001b[0m\u001b[1;34m\"DELETE FROM dbo.table1 WHERE STATE='CLUB'\"\u001b[0m\u001b[1;33m)\u001b[0m\u001b[1;33m\u001b[0m\u001b[1;33m\u001b[0m\u001b[0m\n\u001b[1;32m----> 5\u001b[1;33m     \u001b[1;32mfor\u001b[0m \u001b[0mrow\u001b[0m \u001b[1;32min\u001b[0m \u001b[0mcursor\u001b[0m\u001b[1;33m:\u001b[0m\u001b[1;33m\u001b[0m\u001b[1;33m\u001b[0m\u001b[0m\n\u001b[0m\u001b[0;32m      6\u001b[0m          \u001b[0mprint\u001b[0m\u001b[1;33m(\u001b[0m\u001b[0mrow\u001b[0m\u001b[1;33m)\u001b[0m\u001b[1;33m\u001b[0m\u001b[1;33m\u001b[0m\u001b[0m\n\u001b[0;32m      7\u001b[0m     \u001b[0mprint\u001b[0m\u001b[1;33m(\u001b[0m\u001b[1;33m)\u001b[0m\u001b[1;33m\u001b[0m\u001b[1;33m\u001b[0m\u001b[0m\n",
      "\u001b[1;31mProgrammingError\u001b[0m: No results.  Previous SQL was not a query."
     ]
    }
   ],
   "source": [
    "def delete(conn):\n",
    "    print(\"Read\")\n",
    "    cursor = conn.cursor()\n",
    "    cursor.execute(\"DELETE FROM dbo.table1 WHERE STATE='CLUB'\")\n",
    "    for row in cursor:\n",
    "         print(row)\n",
    "    print()\n",
    "delete(conn)"
   ]
  },
  {
   "cell_type": "code",
   "execution_count": null,
   "metadata": {},
   "outputs": [],
   "source": []
  }
 ],
 "metadata": {
  "kernelspec": {
   "display_name": "Python 3",
   "language": "python",
   "name": "python3"
  },
  "language_info": {
   "codemirror_mode": {
    "name": "ipython",
    "version": 3
   },
   "file_extension": ".py",
   "mimetype": "text/x-python",
   "name": "python",
   "nbconvert_exporter": "python",
   "pygments_lexer": "ipython3",
   "version": "3.8.5"
  }
 },
 "nbformat": 4,
 "nbformat_minor": 4
}
